{
  "nbformat": 4,
  "nbformat_minor": 0,
  "metadata": {
    "colab": {
      "provenance": []
    },
    "kernelspec": {
      "name": "ir",
      "display_name": "R"
    },
    "language_info": {
      "name": "R"
    }
  },
  "cells": [
    {
      "cell_type": "markdown",
      "source": [
        "## Excercises\n",
        "1-  Use integration by substitution to solve the integral below:\n",
        "\n",
        "$\\int 4e^{-7x}dx$\n",
        "\n",
        "## Solution\n",
        "\n",
        "$\\int 4e^{-7x}dx$\n",
        "\n",
        "Given $u= - 7x$ so\n",
        "$\\frac {du}{dx}= -7 $\n",
        "\n",
        "Then $du = -7dx$\n",
        "\n",
        "Then $dx = \\frac {1}{7}du$\n",
        "\n",
        "Now let substitute $u and dx$ into the equation:\n",
        "$\\int 4e^{-7x}dx = \\int 4e^{u}(-\\frac {1}{7}du)$\n",
        "$\\int 4e^{u}(-\\frac {1}{7}du) =  -\\frac {4}{7} \\int e^u du$    \n",
        "\n",
        "Now we have:\n",
        "$ \\int e^u du = e^u + C$   \n",
        "\n",
        "$-\\frac {4}{7} \\int e^u du  = -\\frac {4}{7} \\int e^u + C$\n",
        "\n",
        "Subtitute u into the equation:\n",
        "\n",
        "$\\int 4e^{-7x}dx = -\\frac {4}{7}e^{-7x} + C $\n",
        "\n",
        "Where $C$ is the constant of integration\n"
      ],
      "metadata": {
        "id": "wl8VCpkXZD4A"
      }
    },
    {
      "cell_type": "markdown",
      "source": [
        "Biologists are treating a pond contaminated with bacteria. The level of contamination is changing at a rate of\n",
        "$\\frac {dN}{dt} = \\frac {3150}{t^4}-220 $ bacteria per cubic centimeter per day, where t is the number of days since treatment began. Find a\n",
        "function N( t ) to estimate the level of contamination if the level after 1 day was 6530 bacteria per cubic centimeter.\n",
        "\n",
        "## Solution\n",
        "we have the demontration formula as stated:\n",
        "\n",
        "$\\frac {dN}{dt} = \\frac {3150}{t^4}-220 $\n",
        "\n",
        "$\\frac {dN}{dt} =3150t^{-4} - 220 $\n",
        "Then\n",
        "$N(t) = \\int-3150t^{-4} - 220dt$\n",
        "\n",
        "$N(t) = \\frac {-3150}{-3}t^{-3} - 220t +C $\n",
        "\n",
        "$N(t) = \\frac {1050}{t^{3}} - 220t + C $\n",
        "\n",
        "We know contamination after 1 day was 6530 bacteria per cubic:\n",
        "$6530 = \\frac {1050}{1^{3}} + 220(1) + C $\n",
        "$6530 = 830 + C $\n",
        "\n",
        "$C = 5700$\n",
        "\n"
      ],
      "metadata": {
        "id": "H2TmKjRtpzoo"
      }
    },
    {
      "cell_type": "markdown",
      "source": [
        "3 Find the total area of the red rectangles in the figure below, where the equation of the line is $f ( x ) = 2x - 9$\n",
        "\n",
        "![image.png](data:image/png;base64,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)"
      ],
      "metadata": {
        "id": "myMYCQGmutLn"
      }
    },
    {
      "cell_type": "code",
      "execution_count": 3,
      "metadata": {
        "id": "3mUe5L_eXbMl",
        "colab": {
          "base_uri": "https://localhost:8080/"
        },
        "outputId": "5b2aef14-50a8-4324-c55b-8c43061cb1d2"
      },
      "outputs": [
        {
          "output_type": "stream",
          "name": "stdout",
          "text": [
            "Total area under the curve f(x) = 2x - 9 from x = 0 to x = 4.5 is: -20.25 \n"
          ]
        }
      ],
      "source": [
        "library(pracma)\n",
        "\n",
        "# Define the function f(x) = 2x - 9\n",
        "f <- function(x) {\n",
        "  return(2*x - 9)\n",
        "}\n",
        "\n",
        "# Set integration limits\n",
        "a <- 0  # Lower limit of integration (starting x-value)\n",
        "b <- 4.5  # Upper limit of integration (ending x-value)\n",
        "\n",
        "# Use integrate() to compute the area under the curve\n",
        "area_under_curve <- integrate(f, lower = a, upper = b)$value\n",
        "\n",
        "# Print the total area\n",
        "cat(\"Total area under the curve f(x) = 2x - 9 from x = 0 to x = 4.5 is:\", area_under_curve, \"\\n\")\n"
      ]
    },
    {
      "cell_type": "markdown",
      "source": [
        "4. Find the area of the region bounded by the graphs of the given equations.\n",
        "\n",
        "$y = x^2 - 2x - 2, y = x + 2$"
      ],
      "metadata": {
        "id": "jsmyHPEOxcqG"
      }
    },
    {
      "cell_type": "code",
      "source": [
        "# Define the functions for the curves\n",
        "y1 <- function(x) x^2 - 2*x - 2\n",
        "y2 <- function(x) x + 2\n",
        "\n",
        "# Set up the equation to find intersection points: y1(x) - y2(x) = 0\n",
        "intersection_equation <- function(x) y1(x) - y2(x)\n",
        "\n",
        "# Solve for intersection points using algebraic methods (e.g., solve quadratic equation)\n",
        "# We rewrite y1(x) - y2(x) = 0 as x^2 - 3x - 4 = 0\n",
        "# Solving x^2 - 3x - 4 = 0 using quadratic formula\n",
        "a <- 1\n",
        "b <- -3\n",
        "c <- -4\n",
        "intersection_points <- polyroot(c(c, b, a))\n",
        "\n",
        "# Extract real roots from the complex roots obtained\n",
        "intersection_points <- Re(intersection_points[abs(Im(intersection_points)) < 1e-10])\n",
        "\n",
        "# Sort the intersection points\n",
        "intersection_points <- sort(intersection_points)\n",
        "\n",
        "# Define the interval of integration based on intersection points\n",
        "a <- min(intersection_points)\n",
        "b <- max(intersection_points)\n",
        "\n",
        "# Define the function for the area between the curves\n",
        "area_function <- function(x) {\n",
        "  return(abs(y1(x) - y2(x)))\n",
        "}\n",
        "\n",
        "# Use integrate() function to calculate the area between the curves\n",
        "area_result <- integrate(area_function, lower = a, upper = b)\n",
        "\n",
        "# Print the calculated area\n",
        "cat(\"Area of the region bounded by the curves y = x^2 - 2x - 2 and y = x + 2 is:\", area_result$value, \"\\n\")\n"
      ],
      "metadata": {
        "id": "vTvxG5ZnY-aZ",
        "colab": {
          "base_uri": "https://localhost:8080/"
        },
        "outputId": "28d01331-a138-4a28-e9ea-28e4ffbcdd6c"
      },
      "execution_count": 4,
      "outputs": [
        {
          "output_type": "stream",
          "name": "stdout",
          "text": [
            "Area of the region bounded by the curves y = x^2 - 2x - 2 and y = x + 2 is: 20.83333 \n"
          ]
        }
      ]
    },
    {
      "cell_type": "markdown",
      "source": [
        "5. A beauty supply store expects to sell 110 flat irons during the next year. It costs $3.75 to store one flat iron for one year.\n",
        "There is a fixed cost of $8.25 for each order. Find the lot size and the number of orders per year that will minimize\n",
        "inventory costs.\n",
        "\n",
        "## Solution\n",
        "Lets compute the Economic Order Quantity (EOQ) using the formula:\n",
        "\n",
        "$EOQ = \\sqrt{\\frac {2*D*S}{H}}$\n",
        "\n",
        "\n",
        "where:\n",
        "\n",
        "D = Annual demand for flat irons\n",
        "\n",
        "S = Ordering cost per order\n",
        "\n",
        "H = Holding cost per unit per year"
      ],
      "metadata": {
        "id": "yN6KCjkFzznC"
      }
    },
    {
      "cell_type": "code",
      "source": [
        "# Define function to calculate Economic Order Quantity (EOQ)\n",
        "calculate_eoq <- function(D, S, H) {\n",
        "  eoq <- sqrt((2 * D * S) / H)\n",
        "  return(eoq)\n",
        "}\n",
        "\n",
        "# Define function to calculate optimal number of orders per year (N)\n",
        "calculate_orders_per_year <- function(D, eoq) {\n",
        "  orders_per_year <- D / eoq\n",
        "  return(orders_per_year)\n",
        "}\n",
        "\n",
        "# Given parameters\n",
        "D <- 110  # Annual demand for flat irons\n",
        "S <- 8.25  # Ordering cost per order\n",
        "H <- 3.75  # Holding cost per unit per year\n",
        "\n",
        "# Calculate EOQ\n",
        "eoq <- calculate_eoq(D, S, H)\n",
        "cat(\"Economic Order Quantity (EOQ):\", round(eoq, 2), \"\\n\")\n",
        "\n",
        "# Calculate optimal number of orders per year (N)\n",
        "orders_per_year <- calculate_orders_per_year(D, eoq)\n",
        "cat(\"Number of Orders per Year:\", round(orders_per_year, 2), \"\\n\")\n"
      ],
      "metadata": {
        "colab": {
          "base_uri": "https://localhost:8080/"
        },
        "id": "h4t0ddn33JvI",
        "outputId": "c06a3608-e3c0-4188-c34e-740cfda70ba3"
      },
      "execution_count": 5,
      "outputs": [
        {
          "output_type": "stream",
          "name": "stdout",
          "text": [
            "Economic Order Quantity (EOQ): 22 \n",
            "Number of Orders per Year: 5 \n"
          ]
        }
      ]
    }
  ]
}